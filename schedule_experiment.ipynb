{
 "cells": [
  {
   "cell_type": "code",
   "execution_count": 1,
   "metadata": {},
   "outputs": [],
   "source": [
    "import numpy as np"
   ]
  },
  {
   "cell_type": "code",
   "execution_count": 2,
   "metadata": {},
   "outputs": [],
   "source": [
    "def f(t, s_max=512):\n",
    "    return s_max * np.sin(t * np.pi / 2)**2"
   ]
  },
  {
   "cell_type": "code",
   "execution_count": 3,
   "metadata": {},
   "outputs": [
    {
     "ename": "NameError",
     "evalue": "name 'plt' is not defined",
     "output_type": "error",
     "traceback": [
      "\u001b[0;31m---------------------------------------------------------------------------\u001b[0m",
      "\u001b[0;31mNameError\u001b[0m                                 Traceback (most recent call last)",
      "Cell \u001b[0;32mIn[3], line 2\u001b[0m\n\u001b[1;32m      1\u001b[0m x \u001b[38;5;241m=\u001b[39m np\u001b[38;5;241m.\u001b[39mlinspace(\u001b[38;5;241m0\u001b[39m, \u001b[38;5;241m1\u001b[39m, \u001b[38;5;241m100\u001b[39m)\n\u001b[0;32m----> 2\u001b[0m \u001b[43mplt\u001b[49m\u001b[38;5;241m.\u001b[39mplot(x, f(x))\n\u001b[1;32m      3\u001b[0m f(x)\u001b[38;5;241m.\u001b[39mmax()\n",
      "\u001b[0;31mNameError\u001b[0m: name 'plt' is not defined"
     ]
    }
   ],
   "source": [
    "x = np.linspace(0, 1, 100)\n",
    "plt.plot(x, f(x))\n",
    "f(x).max()"
   ]
  },
  {
   "cell_type": "code",
   "execution_count": null,
   "metadata": {},
   "outputs": [
    {
     "data": {
      "image/png": "[encoded data removed]",
      "text/plain": [
       "<Figure size 640x480 with 1 Axes>"
      ]
     },
     "metadata": {},
     "output_type": "display_data"
    }
   ],
   "source": [
    "def sample_distance():\n",
    "    # sample a random distance\n",
    "    start = np.random.rand()\n",
    "    end = np.random.rand()\n",
    "    d = abs(f(start) - f(end))\n",
    "    return d\n",
    "\n",
    "# plot histogram of distances\n",
    "import matplotlib.pyplot as plt\n",
    "distances = [sample_distance() for _ in range(1000)]\n",
    "plt.hist(distances, bins=300, range=(0,12))\n",
    "plt.show()"
   ]
  },
  {
   "cell_type": "code",
   "execution_count": null,
   "metadata": {},
   "outputs": [
    {
     "data": {
      "image/png": "[encoded data removed]",
      "text/plain": [
       "<Figure size 640x480 with 1 Axes>"
      ]
     },
     "metadata": {},
     "output_type": "display_data"
    }
   ],
   "source": [
    "# plot histogram\n",
    "starts = [f(np.random.rand()) for _ in range(1000)]\n",
    "plt.hist(starts, bins=300, range=(0,12))\n",
    "plt.show()"
   ]
  },
  {
   "cell_type": "code",
   "execution_count": null,
   "metadata": {},
   "outputs": [],
   "source": []
  },
  {
   "cell_type": "code",
   "execution_count": null,
   "metadata": {},
   "outputs": [
    {
     "data": {
      "text/plain": [
       "(0.00023382976281294265, 386.12679670323894)"
      ]
     },
     "execution_count": 172,
     "metadata": {},
     "output_type": "execute_result"
    }
   ],
   "source": [
    "min(distances), max(distances)"
   ]
  },
  {
   "cell_type": "code",
   "execution_count": null,
   "metadata": {},
   "outputs": [],
   "source": [
    "def f(x):\n",
    "    return x / (1 -x)"
   ]
  },
  {
   "cell_type": "code",
   "execution_count": null,
   "metadata": {},
   "outputs": [],
   "source": [
    "%load_ext autoreload\n",
    "%autoreload 2\n",
    "# imports\n",
    "import os\n",
    "from pathlib import Path\n",
    "import logging\n",
    "import numpy as np\n",
    "import matplotlib.pyplot as plt\n",
    "from scripts import losses\n",
    "from scripts import sampling\n",
    "from model_code import utils as mutils\n",
    "from model_code.ema import ExponentialMovingAverage\n",
    "from scripts import datasets\n",
    "import torch\n",
    "import wandb\n",
    "from torch.utils import tensorboard\n",
    "from scripts import utils\n",
    "from absl import app\n",
    "from absl import flags\n",
    "from ml_collections.config_flags import config_flags\n",
    "import matplotlib.pyplot as plt\n",
    "import ipywidgets as widgets\n",
    "from IPython.display import display\n",
    "# get config\n",
    "from configs.afhq.img_size_64 import get_config\n",
    "config = get_config()\n",
    "# Get the forward process definition\n",
    "scales = config.model.blur_schedule\n",
    "heat_forward_module = mutils.create_forward_process_from_sigmas(\n",
    "    config, scales, config.device)\n",
    "torch.set_default_dtype(torch.float64)\n",
    "# load data\n",
    "# Build data iterators\n",
    "trainloader, testloader = datasets.get_dataset(\n",
    "    config, uniform_dequantization=config.data.uniform_dequantization)\n",
    "train_iter = iter(trainloader)\n",
    "eval_iter = iter(testloader)\n",
    "eval_batch = next(eval_iter)[0].to(config.device).float()"
   ]
  },
  {
   "cell_type": "code",
   "execution_count": null,
   "metadata": {},
   "outputs": [
    {
     "name": "stderr",
     "output_type": "stream",
     "text": [
      "/var/folders/5s/h912v31x5gj935j3y2b1s3040000gn/T/ipykernel_27664/1663961325.py:2: RuntimeWarning: divide by zero encountered in divide\n",
      "  return x / (1 -x)\n"
     ]
    },
    {
     "data": {
      "text/plain": [
       "array([0.00000000e+00, 1.02040816e-02, 2.06185567e-02, 3.12500000e-02,\n",
       "       4.21052632e-02, 5.31914894e-02, 6.45161290e-02, 7.60869565e-02,\n",
       "       8.79120879e-02, 1.00000000e-01, 1.12359551e-01, 1.25000000e-01,\n",
       "       1.37931034e-01, 1.51162791e-01, 1.64705882e-01, 1.78571429e-01,\n",
       "       1.92771084e-01, 2.07317073e-01, 2.22222222e-01, 2.37500000e-01,\n",
       "       2.53164557e-01, 2.69230769e-01, 2.85714286e-01, 3.02631579e-01,\n",
       "       3.20000000e-01, 3.37837838e-01, 3.56164384e-01, 3.75000000e-01,\n",
       "       3.94366197e-01, 4.14285714e-01, 4.34782609e-01, 4.55882353e-01,\n",
       "       4.77611940e-01, 5.00000000e-01, 5.23076923e-01, 5.46875000e-01,\n",
       "       5.71428571e-01, 5.96774194e-01, 6.22950820e-01, 6.50000000e-01,\n",
       "       6.77966102e-01, 7.06896552e-01, 7.36842105e-01, 7.67857143e-01,\n",
       "       8.00000000e-01, 8.33333333e-01, 8.67924528e-01, 9.03846154e-01,\n",
       "       9.41176471e-01, 9.80000000e-01, 1.02040816e+00, 1.06250000e+00,\n",
       "       1.10638298e+00, 1.15217391e+00, 1.20000000e+00, 1.25000000e+00,\n",
       "       1.30232558e+00, 1.35714286e+00, 1.41463415e+00, 1.47500000e+00,\n",
       "       1.53846154e+00, 1.60526316e+00, 1.67567568e+00, 1.75000000e+00,\n",
       "       1.82857143e+00, 1.91176471e+00, 2.00000000e+00, 2.09375000e+00,\n",
       "       2.19354839e+00, 2.30000000e+00, 2.41379310e+00, 2.53571429e+00,\n",
       "       2.66666667e+00, 2.80769231e+00, 2.96000000e+00, 3.12500000e+00,\n",
       "       3.30434783e+00, 3.50000000e+00, 3.71428571e+00, 3.95000000e+00,\n",
       "       4.21052632e+00, 4.50000000e+00, 4.82352941e+00, 5.18750000e+00,\n",
       "       5.60000000e+00, 6.07142857e+00, 6.61538462e+00, 7.25000000e+00,\n",
       "       8.00000000e+00, 8.90000000e+00, 1.00000000e+01, 1.13750000e+01,\n",
       "       1.31428571e+01, 1.55000000e+01, 1.88000000e+01, 2.37500000e+01,\n",
       "       3.20000000e+01, 4.85000000e+01, 9.80000000e+01,            inf])"
      ]
     },
     "execution_count": 16,
     "metadata": {},
     "output_type": "execute_result"
    }
   ],
   "source": [
    "f(np.linspace(0, 1, 100))"
   ]
  },
  {
   "cell_type": "code",
   "execution_count": null,
   "metadata": {},
   "outputs": [
    {
     "data": {
      "application/vnd.jupyter.widget-view+json": {
       "model_id": "1c44a0ebb2d94cdb922fae3b359bb4b9",
       "version_major": 2,
       "version_minor": 0
      },
      "text/plain": [
       "VBox(children=(FloatSlider(value=1.0, description='a', max=10.0), FloatSlider(value=1.0, description='b', max=…"
      ]
     },
     "execution_count": 29,
     "metadata": {},
     "output_type": "execute_result"
    }
   ],
   "source": [
    "import ipywidgets as widgets\n",
    "import numpy as np\n",
    "\n",
    "import matplotlib.pyplot as plt\n",
    "\n",
    "def f(x, a=1, b=1, c=1, d=1):\n",
    "    return c * (x**d / (1 - x)**a)**b\n",
    "\n",
    "# Define the range of x values\n",
    "x = np.linspace(0, 0.9999, 100)\n",
    "\n",
    "# Create the interactive slider widgets for parameters a and b\n",
    "a_slider = widgets.FloatSlider(value=1, min=0, max=10, step=0.1, description='a')\n",
    "b_slider = widgets.FloatSlider(value=1, min=0, max=10, step=0.1, description='b')\n",
    "c_slider = widgets.FloatSlider(value=1, min=0, max=10, step=0.1, description='c')\n",
    "d_slider = widgets.FloatSlider(value=1, min=0, max=10, step=0.1, description='d')\n",
    "\n",
    "# Define the update function for the plot\n",
    "def update_plot(a, b, c, d):\n",
    "    y = f(x, a, b, c, d)\n",
    "    plt.plot(x, y)\n",
    "    plt.xlabel('x')\n",
    "    plt.ylabel('f(x)')\n",
    "    plt.ylim(0, 10)\n",
    "    plt.title('Plot of f(x) for x from 0 to 1')\n",
    "    plt.grid(True)\n",
    "    plt.show()\n",
    "\n",
    "# Create the interactive output widget\n",
    "output = widgets.interactive_output(update_plot, {'a': a_slider, 'b': b_slider, 'c': c_slider, 'd': d_slider})\n",
    "\n",
    "# Display the sliders and the plot\n",
    "widgets.VBox([a_slider, b_slider, c_slider, d_slider, output])"
   ]
  },
  {
   "cell_type": "code",
   "execution_count": null,
   "metadata": {},
   "outputs": [
    {
     "data": {
      "text/plain": [
       "9899.999999999982"
      ]
     },
     "execution_count": 30,
     "metadata": {},
     "output_type": "execute_result"
    }
   ],
   "source": [
    "f(0.99, 2, 1)"
   ]
  },
  {
   "cell_type": "code",
   "execution_count": null,
   "metadata": {},
   "outputs": [],
   "source": []
  },
  {
   "cell_type": "code",
   "execution_count": null,
   "metadata": {},
   "outputs": [],
   "source": []
  }
 ],
 "metadata": {
  "kernelspec": {
   "display_name": "thesis310",
   "language": "python",
   "name": "python3"
  },
  "language_info": {
   "codemirror_mode": {
    "name": "ipython",
    "version": 3
   },
   "file_extension": ".py",
   "mimetype": "text/x-python",
   "name": "python",
   "nbconvert_exporter": "python",
   "pygments_lexer": "ipython3",
   "version": "3.10.11"
  }
 },
 "nbformat": 4,
 "nbformat_minor": 2
}
